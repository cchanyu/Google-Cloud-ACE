{
 "cells": [
  {
   "attachments": {},
   "cell_type": "markdown",
   "metadata": {},
   "source": [
    "### Cloud Deploying Serverless to App Engine<br>\n",
    "\n",
    "***\n",
    "\n",
    "<br>"
   ]
  },
  {
   "attachments": {},
   "cell_type": "markdown",
   "metadata": {},
   "source": [
    "**Demo**<br>\n",
    "\n",
    "Demo of deploying a website with no downtime in updating the site.<br>\n",
    "\n",
    "Google Cloud -> App Engine -> we'll create through Command line<br>"
   ]
  },
  {
   "cell_type": "code",
   "execution_count": null,
   "metadata": {},
   "outputs": [],
   "source": [
    "git clone https://github.com/antonitz/google-cloud-associate-cloud-engineer.git\n",
    "cd google-cloud-associate-cloud-engineer/\n",
    "cd 11-Serverless-Services/01_serverless-bowties\n",
    "# you'll find sitev1 sitev2\n",
    "\n",
    "# deploy the sitev1\n",
    "cd sitev1\n",
    "edit app.yaml # opens the Cloud Shell editor\n",
    "gcloud app deploy --version 1 # to deploy the app\n",
    "# authorize and deploy to us-east1 [15]"
   ]
  },
  {
   "attachments": {},
   "cell_type": "markdown",
   "metadata": {},
   "source": [
    "Google Cloud -> App Engine -> Versions<br>\n",
    "You can see all the versions here and other details<br>\n",
    "<br>\n",
    "\n",
    "Deploying the second version<br>"
   ]
  },
  {
   "cell_type": "code",
   "execution_count": null,
   "metadata": {},
   "outputs": [],
   "source": [
    "cd ..\n",
    "cd sitev2\n",
    "gcloud app deploy --version 2"
   ]
  },
  {
   "attachments": {},
   "cell_type": "markdown",
   "metadata": {},
   "source": [
    "You can see all the traffic has been moved to version 2<br>\n",
    "\n",
    "versions -> click v1 -> migrate traffic<br>\n",
    "you can rollback by clicking version 1 and migrate traffic<br>\n",
    "\n",
    "versions -> split traffic<br>\n",
    "add version 2 and use the slider to split<br>\n",
    "split method by random<br>\n",
    "<br>"
   ]
  }
 ],
 "metadata": {
  "kernelspec": {
   "display_name": "Python 3",
   "language": "python",
   "name": "python3"
  },
  "language_info": {
   "name": "python",
   "version": "3.8.10 (tags/v3.8.10:3d8993a, May  3 2021, 11:48:03) [MSC v.1928 64 bit (AMD64)]"
  },
  "orig_nbformat": 4,
  "vscode": {
   "interpreter": {
    "hash": "9650cb4e16cdd4a8e8e2d128bf38d875813998db22a3c986335f89e0cb4d7bb2"
   }
  }
 },
 "nbformat": 4,
 "nbformat_minor": 2
}
