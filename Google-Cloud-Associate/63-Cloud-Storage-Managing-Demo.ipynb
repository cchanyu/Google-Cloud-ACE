{
 "cells": [
  {
   "attachments": {},
   "cell_type": "markdown",
   "metadata": {},
   "source": [
    "### Cloud Managing Cloud Storage Access<br>\n",
    "\n",
    "***\n",
    "\n",
    "<br>"
   ]
  },
  {
   "attachments": {},
   "cell_type": "markdown",
   "metadata": {},
   "source": [
    "**Demo**<br>\n",
    "\n",
    "Google Cloud -> Storage<br>\n",
    "name: bucket1<br>\n",
    "region: us-east1-b<br>\n",
    "storage class: standard<br>\n",
    "control access: fine-grained<br>\n",
    "label: key: env, value: test<br>\n",
    "<br>\n",
    "\n",
    "Google Cloud -> Compute Engine -> VM Instance -> Create instance<br>\n",
    "name: instance1<br>\n",
    "label: key: env, value: test<br>\n",
    "machine type: e2-micro<br>\n",
    "access scope: set access for each API: storage: Full<br>\n",
    "<br>\n",
    "\n",
    "Google Cloud -> Storage -> bucket1<br>"
   ]
  },
  {
   "cell_type": "code",
   "execution_count": null,
   "metadata": {},
   "outputs": [],
   "source": [
    "gcloud compute ssh instance1 --zone us-east1-b\n",
    "sudo nano file1.txt\n",
    "# will open nano editor, you can type in any text\n",
    "# Ctrl + O to save, enter to verify, Ctrl + X to exit\n",
    "gsutil cp file1.txt gs://bucket1 # copy the file into the bucket\n",
    "exit\n",
    "\n",
    "cd ~\n",
    "git clone https://github.com/antonitz/google-cloud-associate-cloud-engineer.git\n",
    "cd google-cloud-associate-cloud-engineer/\n",
    "cd 12-Storage-Services/01_cloud-storage-management/\n",
    "gsutil cp *.jpg gs://bucket1\n"
   ]
  },
  {
   "attachments": {},
   "cell_type": "markdown",
   "metadata": {},
   "source": [
    "**Making the bucket publicly available**<br>\n",
    "\n",
    "Bucket -> Permissions -> Add members<br> \n",
    "new members: allUsers<br>\n",
    "role: Storage Object Viewer<br>\n",
    "<br>\n",
    "\n",
    "objects -> copy url and paste it in the new tab<br>\n",
    "back to permissions and remove permissions<br>\n",
    "\n",
    "click an img -> edit permission -> add entry: public: allUsers<br>\n",
    "> gsutil acl ch -d AllUsers gs://bucket1/image1.jpg<br>\n",
    "acl(access control list) ch(change) -d(delete) AllUsers from img1<br>\n",
    "<br>\n",
    "\n",
    "**Making signed URL**<br>\n",
    "\n",
    "Google Cloud -> IAM & Admin -> Service Accounts -> create Service Accounts<br>\n",
    "account name: signedurl<br>\n",
    "role: storage object viewer<br>\n",
    "<br>\n",
    "\n",
    "select actions -> create key -> json -> download key<br>\n",
    "\n",
    "Google Cloud -> Cloud Shell -> Shell Editor -> File -> Upload Files -> Upload the key file<br>\n",
    "rename the file: privatekey.json<br>\n",
    "Back to the terminal to generate the signed url<br>"
   ]
  },
  {
   "cell_type": "code",
   "execution_count": null,
   "metadata": {},
   "outputs": [],
   "source": [
    "# py-open SSL is needed\n",
    "pip3 install pyopenssl\n",
    "gsutil signurl -d 10m privatekey.json gs://bucket1/image1.jpg\n"
   ]
  },
  {
   "attachments": {},
   "cell_type": "markdown",
   "metadata": {},
   "source": [
    "you can copy paste the url in the new tab to see the img<br>"
   ]
  },
  {
   "attachments": {},
   "cell_type": "markdown",
   "metadata": {},
   "source": [
    "**Object Lifecycle Management and Versioning**<br>\n",
    "\n",
    "Google Cloud -> Cloud Shell<br>"
   ]
  },
  {
   "cell_type": "code",
   "execution_count": null,
   "metadata": {},
   "outputs": [],
   "source": [
    "gsutil versioning get gs://bucket1\n",
    "# suspended: versioning is not turned on\n",
    "gsutil versioning set on gs://bucket1 # enables the versioning\n",
    "gsutil versioning get gs://bucket1 # it'll display enabled now\n",
    "\n",
    "# delete the file on bucket\n",
    "gsutil ls -a gs://bucket1 # deleted file still show up\n",
    "\n",
    "# bring back the nonCurr ver.\n",
    "gsutil mv gs://bucket1/image1.jpg#NUMBER gs://bucket1/image1.jpg\n",
    "gsutil ls -a gs://bucket1 # generation number is different\n",
    "\n",
    "gcloud compute ssh instance1 --zone us-east1-b \n",
    "sudo nano file1.txt\n",
    "# change the text and CTRL + O to save, enter to verify, CTRL + X to exit\n",
    "gsutil cp file1.txt gs://bucket1\n",
    "gsutil ls -a gs://bucket1 # you can see 2 versions of file1.txt\n",
    "gsutil cp gs://bucket1/file1.txt#NUMBER gs://bucket1/file1.txt\n",
    "gsutil ls -a gs://bucket1 # you'll get more files in diff versions\n"
   ]
  },
  {
   "attachments": {},
   "cell_type": "markdown",
   "metadata": {},
   "source": [
    "**add a lifecycle policy**<br>\n",
    "\n",
    "bucket details -> lifecycle -> add a rule<br>\n",
    "select delete object<br>\n",
    "select: days since becoming non-current: 7 days<br>\n",
    "<br>\n",
    "\n",
    "add another rule<br>\n",
    "select set storage class to coldline<br>\n",
    "select: age: 90 days<br>\n",
    "<br>\n"
   ]
  },
  {
   "cell_type": "code",
   "execution_count": null,
   "metadata": {},
   "outputs": [],
   "source": [
    "gsutil lifecycle get gs://bucket1 > lifecycle.JSON # no error = good sign\n",
    "sudo nano lifecycle.json\n",
    "# use arrow key to move to the end, and edit 90 days to 120 days\n",
    "gsutil lifecycle set lifecycle.json gs://bucket1\n"
   ]
  }
 ],
 "metadata": {
  "kernelspec": {
   "display_name": "Python 3",
   "language": "python",
   "name": "python3"
  },
  "language_info": {
   "name": "python",
   "version": "3.8.10 (tags/v3.8.10:3d8993a, May  3 2021, 11:48:03) [MSC v.1928 64 bit (AMD64)]"
  },
  "orig_nbformat": 4,
  "vscode": {
   "interpreter": {
    "hash": "9650cb4e16cdd4a8e8e2d128bf38d875813998db22a3c986335f89e0cb4d7bb2"
   }
  }
 },
 "nbformat": 4,
 "nbformat_minor": 2
}
