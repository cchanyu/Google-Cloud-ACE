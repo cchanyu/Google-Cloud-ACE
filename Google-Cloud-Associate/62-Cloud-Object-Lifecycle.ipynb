{
 "cells": [
  {
   "attachments": {},
   "cell_type": "markdown",
   "metadata": {},
   "source": [
    "### Cloud Object Lifecycle Management and Versioning<br>\n",
    "\n",
    "***\n",
    "\n",
    "<br>"
   ]
  },
  {
   "attachments": {},
   "cell_type": "markdown",
   "metadata": {},
   "source": [
    "a feature within cloud storage used to manage and sort through older files that needs to be deleted<br>\n",
    "and files that are not in need of regular access<br>\n",
    "\n",
    "**versioning**<br>\n",
    "\n",
    "object -> bucket<br>\n",
    "objects are immutable<br>\n",
    "- objects are never edited in place<br>\n",
    "- always replaced with a new version<br>\n",
    "- replacement is marked as end of object lifecycle and beginning of a new one<br>\n",
    "\n",
    "it retains the object, even it gets replaced to a new one<br>\n",
    "it increases the storage cost<br>\n",
    "\n",
    "cloud uses 2 properties to identify the versions: generation, metageneration<br>\n",
    "generation - identifies the versions of the object data<br>\n",
    "metageneration - identifies the version of object's metadata<br>\n",
    "\n",
    "by default, when you replace an object, cloud deletes the old version and adds new version<br>\n",
    "old version retain the name of the object, uniquely identifies as their generation number (v1,v2,v3..)<br>\n",
    "these versions can cost you a lot of money<br>\n",
    "<br>\n",
    "\n",
    "**Object Lifecycle Management**<br>\n",
    "\n",
    "- Setting a time to live (TTL) for objects<br>\n",
    "- Retaining non-curr versions of objects (delete/archive)<br>\n",
    "- downgrading storage class to save money<br>\n",
    "\n",
    "in order to apply this feature to the object<br>\n",
    "you'd assign a lifecycle management configuration to a bucket<br>\n",
    "configuration contains a set of rules, which apply to current and future objects in the bucket<br>\n",
    "when an object meets the criteria one of the rule, cloud storage automatically performs the specified action on the object<br>\n",
    "\n",
    "use cases:<br>\n",
    "- downgrade the storage class of objects older than 365 days to coldline storage<br>\n",
    "- delete objects created before jan 1, 2020<br>\n",
    "- keeping only the 3 most recent ver. of each object in a bucket with versioning enabled<br>\n",
    "\n",
    "**rules -> conditions -> action**<br>\n",
    "rules - any set of conditions for any action<br>\n",
    "conditions - a condition that object must meet<br>\n",
    "action - delete, setStorageClass<br>\n",
    "delete will move to nonCurrentVersion, and when you delete nonCurrentVersion, that'd perma delete<br>\n",
    "\n",
    "priority EX1:<br>\n",
    "delete object -> condition met<br>\n",
    "change storage class -> condition met<br>\n",
    "-> delete object<br>\n",
    "\n",
    "priority EX2:<br>\n",
    "change sc to nearline -> condition met<br>\n",
    "change sc to coldline -> condition met<br>\n",
    "-> move to coldline<br>\n",
    "\n",
    "**Cloud Storage Consideration**<br>\n",
    "- changes are in accordance to object creation date<br>\n",
    "- once an object is deleted, cant be undeleted<br>\n",
    "- can take up to 24hrs to take effect<br>\n",
    "- test lifecycle rules in dev mode first<br>\n",
    "<br>"
   ]
  }
 ],
 "metadata": {
  "kernelspec": {
   "display_name": "Python 3",
   "language": "python",
   "name": "python3"
  },
  "language_info": {
   "name": "python",
   "version": "3.8.10 (tags/v3.8.10:3d8993a, May  3 2021, 11:48:03) [MSC v.1928 64 bit (AMD64)]"
  },
  "orig_nbformat": 4,
  "vscode": {
   "interpreter": {
    "hash": "9650cb4e16cdd4a8e8e2d128bf38d875813998db22a3c986335f89e0cb4d7bb2"
   }
  }
 },
 "nbformat": 4,
 "nbformat_minor": 2
}
