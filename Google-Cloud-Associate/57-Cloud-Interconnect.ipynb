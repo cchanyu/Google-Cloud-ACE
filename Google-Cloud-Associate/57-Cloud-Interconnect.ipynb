{
 "cells": [
  {
   "attachments": {},
   "cell_type": "markdown",
   "metadata": {},
   "source": [
    "### Cloud Interconnect<br>\n",
    "\n",
    "***\n",
    "\n",
    "<br>"
   ]
  },
  {
   "attachments": {},
   "cell_type": "markdown",
   "metadata": {},
   "source": [
    "another connection type that allows on-premises connectivity to Google Cloud's VPC<br>\n",
    "other than VPN, this is the other connection type that allows on-premises environment to your Google Cloud VPC<br>\n",
    "\n",
    "**Cloud Interconnect**<br>\n",
    "\n",
    "- low latency, high available connection between your on-premises and google Cloud VPC networks<br>\n",
    "- directly accessible internal IP - **Private Google Access**<br>\n",
    "- Doesn't traverse the public internet<br>\n",
    "- Dedicated connection<br>\n",
    "Unlike VPN, it's not encrypted, if you want to encrypt it, you need to create a self-managed VPN gateways<br>\n",
    "- It's a fast connection, but comes with a high price tag: EXPENSIVE<br>\n",
    "<br>\n",
    "\n",
    "**Dedicated Interconnect**<br>\n",
    "\n",
    "Compute -> Cloud Router -> Google Peering Edge --BTI-Interconnect--> On-premises Router -> User<br>\n",
    "8 x 10Gbps connections (80 Gbps total)<br>\n",
    "2 x 100Gbps connections (200 Gbps total)<br>\n",
    "\n",
    "provides a direct server connection between on-premises network to Google's network<br>\n",
    "allows you to transfer large amounts of data, between your network and Google Cloud<br>\n",
    "can be more effective than purchasing more bandwidth over the public internet<br>\n",
    "\n",
    "Interconnect Colocation Facility - your network physically meet Google's network in a supported colocation facility<br>\n",
    "this facility is where a vendor, colocation facility provider provisions the circuit between your network and Google Edge Point of Presence(POP)<br>\n",
    "it's suitable for non critical apps that can tolerate some downtime<br>\n",
    "but in case of sensitive apps, requires at least 2 interconnect connection in 2 separate colocation facility is needed<br>\n",
    "<br>\n",
    "\n",
    "**Partner Interconnect**<br>\n",
    "\n",
    "Compute -> Cloud Router -> Google Peering Edge -> Service Provider Peering Edge -> Internet -> Service Provider Peering Edge -> On-Premises Router -> User<br>\n",
    "50 Mbps to 50 Gbps VLAN attachments (50Gbps total)<br>\n",
    "\n",
    "connect through a supported service provider network<br>\n",
    "It's not a direct connection from on-premises to Google<br>\n",
    "<br>\n",
    "\n",
    "**Direct Peering**<br>\n",
    "\n",
    "- Direct peering connection between your on-premises network and Google's edge network<br>\n",
    "- it's available at 100 locations in 33 countries<br>\n",
    "- direct egress pricing available<br>\n",
    "- direct peering connection with Google is FREE<br>\n",
    "<br>\n",
    "\n",
    "**(CDN) Content Delivery Network Interconnect**<br>\n",
    "\n",
    "- Enables select third-party CDN providers to establish direct peering links with Google's edge network<br>\n",
    "- Direct traffic from VPC network to the provider's network<br>\n",
    "- Reduced pricing on egress costs<br>\n",
    "EX: Highwinds, Akamal, CenturyLink, CloudFlare, Limelight Networks, Fastly, Verizon Digital Media Services<br>\n",
    "<br>\n",
    "\n",
    "**When to use Cloud Interconnect**<br>\n",
    "\n",
    "- Prevent traffic from traversing the public internet<br>\n",
    "- Dedicated physical connection<br>\n",
    "- Extension of your VPC network<br>\n",
    "- High speed/low latency is needed - 200Gbps<br>\n",
    "- Heavy outgoing traffic(egress) from GCP<br>\n",
    "- Private Google Access<br>\n",
    "<br>"
   ]
  }
 ],
 "metadata": {
  "kernelspec": {
   "display_name": "Python 3",
   "language": "python",
   "name": "python3"
  },
  "language_info": {
   "name": "python",
   "version": "3.8.10 (tags/v3.8.10:3d8993a, May  3 2021, 11:48:03) [MSC v.1928 64 bit (AMD64)]"
  },
  "orig_nbformat": 4,
  "vscode": {
   "interpreter": {
    "hash": "9650cb4e16cdd4a8e8e2d128bf38d875813998db22a3c986335f89e0cb4d7bb2"
   }
  }
 },
 "nbformat": 4,
 "nbformat_minor": 2
}
