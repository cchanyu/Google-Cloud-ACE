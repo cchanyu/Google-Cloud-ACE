{
 "cells": [
  {
   "attachments": {},
   "cell_type": "markdown",
   "metadata": {},
   "source": [
    "### Cloud VPN<br>\n",
    "\n",
    "***\n",
    "\n",
    "<br>"
   ]
  },
  {
   "attachments": {},
   "cell_type": "markdown",
   "metadata": {},
   "source": [
    "**Cloud VPN** connects your peer network to your VPC network through an IPsec VPN connection<br>\n",
    "peer network Ex: On-Premises VPN, VPN gateway Cloud Provider, Another Cloud VPN<br>\n",
    "IPsec tunnel over the public internet<br>\n",
    "\n",
    "when creating VPN, traffics traveling the network is encrypted by one VPN gateway<br>\n",
    "then decrypted by the other VPN gateway<br>\n",
    "\n",
    "- Cloud VPN is a regional service<br>\n",
    "and if that region were to go down, you'd lose the connection<br>\n",
    "- Cloud VPN is a site-to-site VPN only (no site-to-client)<br>\n",
    "- Allows **Private Google Access** for on-premises hosts<br>\n",
    "- Each cloud VPN tunnel supports up to 3Gbps for ingress/egress<br>\n",
    "- Routing options available are both static and dynamic<br>\n",
    "- Cloud VPN supports IKEv1, IKEv2 using Shared Secret<br>\n",
    "<br>\n",
    "\n",
    "**Types of Cloud VPN**<br>\n",
    "\n",
    "- **Classic VPN**<br>\n",
    "Service Level Agreement (SLA) of 99.9%<br>\n",
    "Static and dynamic routing<br>\n",
    "1 external IP address for a single interface<br>\n",
    "Deprecating certain functionality in 2021<br>\n",
    "\n",
    "- **HA VPN**<br>\n",
    "Service Level Agreement (SLA) of 99.99%<br>\n",
    "Dynamic routing only<br>\n",
    "2 external IPs to be configured for 2 interfaces<br>\n",
    "New default VPN<br>\n",
    "<br>\n",
    "\n",
    "**Classic VPN**<br>\n",
    "\n",
    "Classic Cloud VPN gateway --Regional External IP--> VPN tunnel 0 (encrypted) --External IP--> On-Premises VPN gateway<br>\n",
    "\n",
    "cloud vpn solution that let you connect your peer network to your vpc network<br>\n",
    "through an IPsec VPN connection in a single region<br>\n",
    "unlike HA VPN, classic VPN offers no redundancy out of the box<br>\n",
    "\n",
    "You'd have to create another VPN connection,<br>\n",
    "if connection would go down, you'd manually have to switch the connection<br>\n",
    "<br>\n",
    "\n",
    "**HA VPN**<br>\n",
    "\n",
    "HA Cloud VPN gateway --Regional External IP 0/1--> VPN tunnel 0/1 (encrypted) --External IP--> On-Premises VPN Gateway 1/2<br>\n",
    "Cloud Router router-a --BGP--> On-Premises VPN Gateway 1/2<br>\n",
    "<br>\n",
    "\n",
    "**When to use Cloud VPN:**<br>\n",
    "\n",
    "- Whether you need a public internet or not.<br>\n",
    "Sharing files or the company needs specific SaaS product that's only available on the internet<br>\n",
    "- When you're looking to use interconnect and peering location is not available<br>\n",
    "- Budget constraints, cloud interconnect is more expensive option<br>\n",
    "- if you don't need a high speed/low latency<br>\n",
    "- you only have regular outgoing traffic(egress) from GCP<br>\n",
    "<br>\n"
   ]
  }
 ],
 "metadata": {
  "kernelspec": {
   "display_name": "Python 3",
   "language": "python",
   "name": "python3"
  },
  "language_info": {
   "name": "python",
   "version": "3.8.10 (tags/v3.8.10:3d8993a, May  3 2021, 11:48:03) [MSC v.1928 64 bit (AMD64)]"
  },
  "orig_nbformat": 4,
  "vscode": {
   "interpreter": {
    "hash": "9650cb4e16cdd4a8e8e2d128bf38d875813998db22a3c986335f89e0cb4d7bb2"
   }
  }
 },
 "nbformat": 4,
 "nbformat_minor": 2
}
