{
 "cells": [
  {
   "attachments": {},
   "cell_type": "markdown",
   "metadata": {},
   "source": [
    "### Cloud Spanner<br>\n",
    "\n",
    "***\n",
    "\n",
    "<br>"
   ]
  },
  {
   "attachments": {},
   "cell_type": "markdown",
   "metadata": {},
   "source": [
    "**Cloud Spanner**<br>\n",
    "\n",
    "Global-relation database<br>\n",
    "it's similar to Cloud SQL, when it comes to SQL querying and asset transaction, and strong consistency<br>\n",
    "different in how data is handled under the hood than Cloud SQL<br>\n",
    "\n",
    "- Cloud spanner is a fully managed relational database service that's both strongly consistent and horizontally scalable<br>\n",
    "- DBaaS(Database as a Service)<br>\n",
    "- supports schemas, ACID transactions, and SQL queries<br>\n",
    "Cloud spanner uses true-time, high available atomic clock system that's provided to all applications in Google Servers<br>\n",
    "- supports globally consistent reads along with strongly distributed transactions - globally distributed<br>\n",
    "- Cloud spanner handles any replica and sharding<br>\n",
    "- Synchronous data replication<br>\n",
    "- Automatic scaling and node redundancy<br>\n",
    "- up to 99.999% availability<br>\n",
    "- Cloud spanner is secure with data layer encryption, audit logging, IAM integration<br>\n",
    "- Designed to fit the needs for financial services, ad tech, retail and global supply chain, gaming<br>\n",
    "- Pricing $0.90 node/hr + $0.30 GB/mo<br>\n",
    "\n",
    "Nodes<br>\n",
    "US-EAST1-B Instance (Cloud Spanner Leader) - US-EAST1-C (Cloud Spanner Replica) - US-EAST1-D (Cloud Spanner Replica)<br>\n",
    "\n",
    "There is no instance type like Cloud SQL, so if you need more power, you need to increase Node Count<br>\n",
    "Cloud Spanner maintains 3 read/write replicas, each in different zones<br>\n",
    "each replica owns a full copy of the database<br>\n",
    "3 node mimimum is recommended for production<br>\n",
    "\n",
    "sharding = split<br>\n",
    "you get replicas of each instance to improve performance<br>\n",
    "within each replicaset, 1 replica acts as a leader<br>\n",
    "<br>\n",
    "\n",
    "**Node Performance**<br>\n",
    "- each Cloud Spanner node can provide upto 10k queries QPS of reads, or 2000 QPS of writes<br>\n",
    "- 2TB of storage per node<br>\n",
    "- Add more nodes to increase data throughput and QPS<br>\n",
    "- scale nodes automatically using Cloud Monitoring metrics triggered by Cloud Functions<br>\n",
    "<br>"
   ]
  }
 ],
 "metadata": {
  "kernelspec": {
   "display_name": "Python 3",
   "language": "python",
   "name": "python3"
  },
  "language_info": {
   "name": "python",
   "version": "3.8.10 (tags/v3.8.10:3d8993a, May  3 2021, 11:48:03) [MSC v.1928 64 bit (AMD64)]"
  },
  "orig_nbformat": 4,
  "vscode": {
   "interpreter": {
    "hash": "9650cb4e16cdd4a8e8e2d128bf38d875813998db22a3c986335f89e0cb4d7bb2"
   }
  }
 },
 "nbformat": 4,
 "nbformat_minor": 2
}
