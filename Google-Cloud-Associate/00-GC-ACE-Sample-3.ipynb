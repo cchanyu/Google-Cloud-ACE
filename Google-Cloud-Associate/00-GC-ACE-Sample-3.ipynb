{
 "cells": [
  {
   "attachments": {},
   "cell_type": "markdown",
   "metadata": {},
   "source": [
    "### Cloud Sample Exam Questions<br>\n",
    "\n",
    "***\n",
    "\n",
    "<br>\n",
    "\n",
    "**Key:**<br>\n",
    "\n",
    "<font color=pink>Red = got it wrong<br></font>\n",
    "<font color=orange>Orange = kind of confusing, need to look at it more<br></font>"
   ]
  },
  {
   "cell_type": "markdown",
   "metadata": {},
   "source": []
  }
 ],
 "metadata": {
  "language_info": {
   "name": "python"
  },
  "orig_nbformat": 4
 },
 "nbformat": 4,
 "nbformat_minor": 2
}
