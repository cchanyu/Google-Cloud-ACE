{
 "cells": [
  {
   "attachments": {},
   "cell_type": "markdown",
   "metadata": {},
   "source": [
    "### Cloud Handy Notes Through Exams<br>\n",
    "\n",
    "***\n",
    "\n",
    "Notes of extra knowledge learned through exams<br>\n"
   ]
  },
  {
   "attachments": {},
   "cell_type": "markdown",
   "metadata": {},
   "source": [
    "07-02. Custom role can consume too much time to manage, so pre-defined is quite fine-grained when it comes to controlling access<br>\n",
    "\n",
    "07-04. Pub/Sub can handle large amount of request real time<br>\n",
    "\n",
    "07-07. simple data schema, high read speed, small writes - Cloud BigTable<br>\n",
    "\n",
    "07-08. tell frontend pods to talk to a service that groups them in the backend<br>\n",
    "\n",
    "07-09. deploy docker in Cloud Run, takes minimal administration<br>\n",
    "\n",
    "07-11. use Google Foundation Toolkit for template for all environment<br>\n",
    "\n",
    "07-13. use Cloud DNS to translate domain names to IPs<br>\n",
    "\n",
    "07-15. large data, but need to access any time for ad hoc SQL queries<br>\n",
    "BigTable is HBase, and doesn't allow Ad-hoc queries, bigQuery is most suitable<br>\n",
    "ad-hoc query means specific search, pig/hive hbase is for batch processing, not realtime querying<br>\n",
    "\n",
    "07-16. migrating workload from on-premises to GKE, minimize the cost - use autopilot (reduces operation cost)<br>\n",
    "\n",
    "07-17. Upload pics, convert to binary form<br>\n",
    "bigTable isn't for binary files, firestore also sucks with large binary files, filestore is not cost-effective<br>\n",
    "\n",
    "07-18. migrate on-premise to Cloud, 100TB stuff<br>\n",
    "obtain a transfer appliance, it's cost effective<br>\n",
    "\n",
    "07-19. prevent excessive comsumption of resource<br>\n",
    "limiting CC will only incur unpaid balances<br>\n",
    "set up quotas for resources, quota = limit<br>\n",
    "\n",
    "07-20. use cloud pricing calc<br>\n",
    "volume discount is auto implemented in calc, so no need to count<br>"
   ]
  },
  {
   "attachments": {},
   "cell_type": "markdown",
   "metadata": {},
   "source": [
    "https://www.examtopics.com/exams/google/associate-cloud-engineer/view/"
   ]
  }
 ],
 "metadata": {
  "kernelspec": {
   "display_name": "Python 3",
   "language": "python",
   "name": "python3"
  },
  "language_info": {
   "name": "python",
   "version": "3.8.10"
  },
  "orig_nbformat": 4,
  "vscode": {
   "interpreter": {
    "hash": "9650cb4e16cdd4a8e8e2d128bf38d875813998db22a3c986335f89e0cb4d7bb2"
   }
  }
 },
 "nbformat": 4,
 "nbformat_minor": 2
}
